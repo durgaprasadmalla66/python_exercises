{
 "cells": [
  {
   "cell_type": "code",
   "execution_count": 20,
   "metadata": {
    "collapsed": true,
    "ExecuteTime": {
     "end_time": "2023-05-27T20:32:15.115705300Z",
     "start_time": "2023-05-27T20:32:08.355486500Z"
    }
   },
   "outputs": [
    {
     "name": "stdout",
     "output_type": "stream",
     "text": [
      "prasad,you will be 100 years old in the year:2103\n"
     ]
    }
   ],
   "source": [
    "#exercise-1 creating character inputs in python\n",
    "name=input(\"enter your name:\")\n",
    "age=int(input(\"enter your age:\"))\n",
    "year=2023-age+100\n",
    "print(name+\",you will be 100 years old in the year:\"+str(year))"
   ]
  },
  {
   "cell_type": "code",
   "execution_count": 21,
   "outputs": [
    {
     "name": "stdout",
     "output_type": "stream",
     "text": [
      "the number is even\n"
     ]
    }
   ],
   "source": [
    "#exercise-2 finding odd or even using python\n",
    "x = int(input(\"enter a number\"))\n",
    "if x % 2 ==0:\n",
    "    print(\"the number is even\")\n",
    "else:\n",
    "    print(\"the number is odd\")"
   ],
   "metadata": {
    "collapsed": false,
    "ExecuteTime": {
     "end_time": "2023-05-27T20:32:26.809299600Z",
     "start_time": "2023-05-27T20:32:24.093871300Z"
    }
   }
  },
  {
   "cell_type": "code",
   "execution_count": 3,
   "outputs": [
    {
     "name": "stdout",
     "output_type": "stream",
     "text": [
      "1\n",
      "1\n",
      "2\n",
      "3\n"
     ]
    }
   ],
   "source": [
    "#exercise-3 printing an elements less than 5\n",
    "a = [1, 1, 2, 3, 5, 8, 13, 21, 34, 55, 89]\n",
    "for num in a:\n",
    "    if num<5:\n",
    "        print(num)"
   ],
   "metadata": {
    "collapsed": false,
    "ExecuteTime": {
     "end_time": "2023-05-27T05:33:38.136258600Z",
     "start_time": "2023-05-27T05:33:38.074086700Z"
    }
   }
  },
  {
   "cell_type": "code",
   "execution_count": 1,
   "outputs": [
    {
     "name": "stdout",
     "output_type": "stream",
     "text": [
      "[1, 2, 3, 6, 7, 14, 19, 21, 38, 42, 49, 57, 98, 114, 133, 147, 266, 294, 399, 798, 931, 1862, 2793, 5586]\n"
     ]
    }
   ],
   "source": [
    "#exercise-4 divisors in python\n",
    "num = int(input(\"enter a number to divide:\"))\n",
    "listrange = list(range(1,num+1))\n",
    "divisorlist = []\n",
    "for number in listrange:\n",
    "    if num % number ==0:\n",
    "        divisorlist.append(number)\n",
    "print(divisorlist)"
   ],
   "metadata": {
    "collapsed": false,
    "ExecuteTime": {
     "end_time": "2023-05-30T17:23:05.310712400Z",
     "start_time": "2023-05-30T17:22:56.508477300Z"
    }
   }
  },
  {
   "cell_type": "code",
   "execution_count": 6,
   "outputs": [
    {
     "name": "stdout",
     "output_type": "stream",
     "text": [
      "[1, 2, 3, 5, 8, 13]\n"
     ]
    }
   ],
   "source": [
    "#exercise-5 list overlapping in python\n",
    "list1 = [1, 1, 2, 3, 5, 8, 13, 21, 34, 55, 89]\n",
    "list2 = [1, 2, 3, 4, 5, 6, 7, 8, 9, 10, 11, 12, 13]\n",
    "overlappedlist = list(set(list1)&set(list2)) # where & is the operator for intersection\n",
    "print(overlappedlist)"
   ],
   "metadata": {
    "collapsed": false,
    "ExecuteTime": {
     "end_time": "2023-05-27T08:27:40.573162500Z",
     "start_time": "2023-05-27T08:27:40.558171500Z"
    }
   }
  },
  {
   "cell_type": "code",
   "execution_count": 10,
   "outputs": [
    {
     "name": "stdout",
     "output_type": "stream",
     "text": [
      "the word is palandrome\n"
     ]
    }
   ],
   "source": [
    "#exercise-6 finding palandrome using python\n",
    "word = input(\"enter a word\")\n",
    "reverseword = word[::-1] #where [::-1] checks the input in reverse pattern\n",
    "if word == reverseword:\n",
    "    print(\"the word is palandrome\")\n",
    "else:\n",
    "    print(\"the word is not palandrome\")"
   ],
   "metadata": {
    "collapsed": false,
    "ExecuteTime": {
     "end_time": "2023-05-27T09:47:20.896940900Z",
     "start_time": "2023-05-27T09:47:04.284473700Z"
    }
   }
  },
  {
   "cell_type": "code",
   "execution_count": 2,
   "outputs": [
    {
     "name": "stdout",
     "output_type": "stream",
     "text": [
      "[4, 16, 36, 64, 100]\n"
     ]
    }
   ],
   "source": [
    "#exercise 7-List Comprehensions using python\n",
    "a = [1, 4, 9, 16, 25, 36, 49, 64, 81, 100]\n",
    "evennumbers = [x for x in a if x % 2 == 0] #let x be the even numbers in list a\n",
    "print(evennumbers)\n"
   ],
   "metadata": {
    "collapsed": false,
    "ExecuteTime": {
     "end_time": "2023-05-30T17:24:37.555276100Z",
     "start_time": "2023-05-30T17:24:37.490819300Z"
    }
   }
  }
 ],
 "metadata": {
  "kernelspec": {
   "display_name": "Python 3",
   "language": "python",
   "name": "python3"
  },
  "language_info": {
   "codemirror_mode": {
    "name": "ipython",
    "version": 2
   },
   "file_extension": ".py",
   "mimetype": "text/x-python",
   "name": "python",
   "nbconvert_exporter": "python",
   "pygments_lexer": "ipython2",
   "version": "2.7.6"
  }
 },
 "nbformat": 4,
 "nbformat_minor": 0
}
