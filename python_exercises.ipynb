{
  "nbformat": 4,
  "nbformat_minor": 0,
  "metadata": {
    "colab": {
      "provenance": [],
      "authorship_tag": "ABX9TyPgWmaavX9XIvkdLDbmzIzF",
      "include_colab_link": true
    },
    "kernelspec": {
      "name": "python3",
      "display_name": "Python 3"
    },
    "language_info": {
      "name": "python"
    }
  },
  "cells": [
    {
      "cell_type": "markdown",
      "metadata": {
        "id": "view-in-github",
        "colab_type": "text"
      },
      "source": [
        "<a href=\"https://colab.research.google.com/github/durgaprasadmalla66/python_exercises/blob/main/python_exercises.ipynb\" target=\"_parent\"><img src=\"https://colab.research.google.com/assets/colab-badge.svg\" alt=\"Open In Colab\"/></a>"
      ]
    },
    {
      "cell_type": "markdown",
      "source": [
        "#Exercise 8:Calculate the multiplication and sum of two numbers:\n",
        "Given two integer numbers, return their product only if the product is equal to or lower than 1000. Otherwise, return their sum."
      ],
      "metadata": {
        "id": "iLIKvyJQN1dQ"
      }
    },
    {
      "cell_type": "code",
      "source": [
        "a=40\n",
        "b=30\n",
        "\n",
        "if a * b < 1000:\n",
        "    print('a*b is:', a * b)\n",
        "else:\n",
        "    print('a+b is:', a + b)"
      ],
      "metadata": {
        "colab": {
          "base_uri": "https://localhost:8080/"
        },
        "id": "SHl4cAYxMSer",
        "outputId": "75dd91b6-7414-4b78-f47d-cfa04c2f2e9c"
      },
      "execution_count": 12,
      "outputs": [
        {
          "output_type": "stream",
          "name": "stdout",
          "text": [
            "a+b is: 70\n"
          ]
        }
      ]
    }
  ]
}